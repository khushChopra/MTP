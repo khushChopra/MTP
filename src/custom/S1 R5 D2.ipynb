{
 "cells": [
  {
   "cell_type": "code",
   "execution_count": 2,
   "metadata": {},
   "outputs": [],
   "source": [
    "from random import random, randint\n",
    "from pprint import pprint\n",
    "import matplotlib.pyplot as plt\n",
    "from env import SquareField"
   ]
  },
  {
   "cell_type": "markdown",
   "metadata": {},
   "source": [
    "Q learning Scenario 1"
   ]
  },
  {
   "cell_type": "markdown",
   "metadata": {},
   "source": [
    "for reward 5"
   ]
  },
  {
   "cell_type": "code",
   "execution_count": 18,
   "metadata": {},
   "outputs": [
    {
     "name": "stdout",
     "output_type": "stream",
     "text": [
      "0 Done\n",
      "100 Done\n",
      "200 Done\n",
      "300 Done\n",
      "400 Done\n",
      "500 Done\n",
      "600 Done\n",
      "700 Done\n",
      "800 Done\n",
      "900 Done\n"
     ]
    }
   ],
   "source": [
    "l = 3\n",
    "final_states = { (0,2):5 }\n",
    "n = 1000 # number of episodes\n",
    "e = 0.5 # epsilon\n",
    "gamma = 0.75\n",
    "alpha = 0.05\n",
    "\n",
    "env = SquareField(l, final_states)\n",
    "\n",
    "q_values = {}\n",
    "for a in range(l):\n",
    "    for b in range(l):\n",
    "        for c in range(4):\n",
    "            q_values[((a,b), c)] = 0\n",
    "\n",
    "            \n",
    "len_episodes = []\n",
    "for i in range(n):\n",
    "    current_state = env.reset()\n",
    "    done = False\n",
    "    next_state = None\n",
    "    len_episode = 0\n",
    "    reward_episode = 0\n",
    "    while not done:\n",
    "        action = 0\n",
    "        if random()<e:\n",
    "            action = randint(0,3)\n",
    "        else:\n",
    "            max_val = 0\n",
    "            for j in range(4):\n",
    "                if q_values[(current_state, j)]>max_val:\n",
    "                    max_val = q_values[(current_state, j)]\n",
    "                    action = j\n",
    "        \n",
    "        next_state, reward, done, info = env.step(action)\n",
    "        max_next_state_q_value = max( [ q_values[ (next_state, j) ] for j in range(4)  ] )\n",
    "        q_values[(current_state, action)] = (1-alpha)*q_values[(current_state, action)] + alpha*(reward + gamma*max_next_state_q_value)\n",
    "        \n",
    "        current_state = next_state\n",
    "        len_episode += 1\n",
    "    len_episodes.append(len_episode)\n",
    "    if i%100==0:\n",
    "        print(i, \"Done\")"
   ]
  },
  {
   "cell_type": "code",
   "execution_count": 19,
   "metadata": {},
   "outputs": [
    {
     "data": {
      "image/png": "[encoded data removed]",
      "text/plain": [
       "<Figure size 432x288 with 1 Axes>"
      ]
     },
     "metadata": {
      "needs_background": "light"
     },
     "output_type": "display_data"
    }
   ],
   "source": [
    "plt.plot(len_episodes)\n",
    "plt.show()"
   ]
  },
  {
   "cell_type": "code",
   "execution_count": 20,
   "metadata": {},
   "outputs": [
    {
     "data": {
      "text/plain": [
       "{((0, 0), 0): 2.109304198096911,\n",
       " ((0, 0), 1): 2.8121304078389975,\n",
       " ((0, 0), 2): 2.809968241606821,\n",
       " ((0, 0), 3): 3.7499999999998272,\n",
       " ((0, 1), 0): 2.8085396101444675,\n",
       " ((0, 1), 1): 3.737368149944224,\n",
       " ((0, 1), 2): 2.8065403371883484,\n",
       " ((0, 1), 3): 4.999999999999933,\n",
       " ((0, 2), 0): 0,\n",
       " ((0, 2), 1): 0,\n",
       " ((0, 2), 2): 0,\n",
       " ((0, 2), 3): 0,\n",
       " ((1, 0), 0): 1.2100882525427543,\n",
       " ((1, 0), 1): 2.0456988258328304,\n",
       " ((1, 0), 2): 1.802110133137786,\n",
       " ((1, 0), 3): 2.812493667138134,\n",
       " ((1, 1), 0): 1.855218510625134,\n",
       " ((1, 1), 1): 3.5111440855321234,\n",
       " ((1, 1), 2): 1.9707395441730586,\n",
       " ((1, 1), 3): 3.749999776470768,\n",
       " ((1, 2), 0): 2.6325571371334835,\n",
       " ((1, 2), 1): 4.999999978960004,\n",
       " ((1, 2), 2): 2.7069638374266947,\n",
       " ((1, 2), 3): 3.534404253288857,\n",
       " ((2, 0), 0): 0.5034787066817545,\n",
       " ((2, 0), 1): 2.0035795610920344,\n",
       " ((2, 0), 2): 0.6270732549892243,\n",
       " ((2, 0), 3): 0.7251454228854544,\n",
       " ((2, 1), 0): 0.6068444003596598,\n",
       " ((2, 1), 1): 1.2709624680902196,\n",
       " ((2, 1), 2): 0.6095613781683451,\n",
       " ((2, 1), 3): 2.7317193917355747,\n",
       " ((2, 2), 0): 2.203880483640824,\n",
       " ((2, 2), 1): 3.744928817478852,\n",
       " ((2, 2), 2): 1.2069682754794364,\n",
       " ((2, 2), 3): 2.06308176961563}"
      ]
     },
     "execution_count": 20,
     "metadata": {},
     "output_type": "execute_result"
    }
   ],
   "source": [
    "q_values  ## e = 0.75"
   ]
  },
  {
   "cell_type": "code",
   "execution_count": 17,
   "metadata": {},
   "outputs": [
    {
     "data": {
      "text/plain": [
       "{((0, 0), 0): 4.2832606236846855,\n",
       " ((0, 0), 1): 4.511968666811978,\n",
       " ((0, 0), 2): 4.512365764835759,\n",
       " ((0, 0), 3): 4.749999999999966,\n",
       " ((0, 1), 0): 4.511923754147454,\n",
       " ((0, 1), 1): 4.749806641745417,\n",
       " ((0, 1), 2): 4.512294192010668,\n",
       " ((0, 1), 3): 4.999999999999988,\n",
       " ((0, 2), 0): 0,\n",
       " ((0, 2), 1): 0,\n",
       " ((0, 2), 2): 0,\n",
       " ((0, 2), 3): 0,\n",
       " ((1, 0), 0): 2.1474913530721715,\n",
       " ((1, 0), 1): 3.868159885661301,\n",
       " ((1, 0), 2): 3.851873045599666,\n",
       " ((1, 0), 3): 4.512088121281455,\n",
       " ((1, 1), 0): 3.765600696529165,\n",
       " ((1, 1), 1): 4.749999274023358,\n",
       " ((1, 1), 2): 4.069799324033001,\n",
       " ((1, 1), 3): 3.721361191573643,\n",
       " ((1, 2), 0): 0.1629004891077172,\n",
       " ((1, 2), 1): 4.731332270086292,\n",
       " ((1, 2), 2): 1.4439428224060837,\n",
       " ((1, 2), 3): 0.9194257129739819,\n",
       " ((2, 0), 0): 0.44965656477505594,\n",
       " ((2, 0), 1): 1.2755129203495912,\n",
       " ((2, 0), 2): 0.8999275045517261,\n",
       " ((2, 0), 3): 3.554386014897497,\n",
       " ((2, 1), 0): 2.6158748698274805,\n",
       " ((2, 1), 1): 4.458104243056797,\n",
       " ((2, 1), 2): 1.2027941545203134,\n",
       " ((2, 1), 3): 0.30876065553997806,\n",
       " ((2, 2), 0): 0.11677974740787057,\n",
       " ((2, 2), 1): 1.7384172492667125,\n",
       " ((2, 2), 2): 0.6299670670049407,\n",
       " ((2, 2), 3): 0.030811075274739808}"
      ]
     },
     "execution_count": 17,
     "metadata": {},
     "output_type": "execute_result"
    }
   ],
   "source": [
    "q_values  ## e = 0.95"
   ]
  },
  {
   "cell_type": "code",
   "execution_count": 15,
   "metadata": {},
   "outputs": [
    {
     "data": {
      "text/plain": [
       "{((0, 0), 0): 4.632724664751701,\n",
       " ((0, 0), 1): 4.7530051102895365,\n",
       " ((0, 0), 2): 4.75292013336166,\n",
       " ((0, 0), 3): 4.874999999999977,\n",
       " ((0, 1), 0): 4.718488078756136,\n",
       " ((0, 1), 1): 4.874721083129048,\n",
       " ((0, 1), 2): 4.751927589089193,\n",
       " ((0, 1), 3): 4.999999999999988,\n",
       " ((0, 2), 0): 0,\n",
       " ((0, 2), 1): 0,\n",
       " ((0, 2), 2): 0,\n",
       " ((0, 2), 3): 0,\n",
       " ((1, 0), 0): 2.5774312553956684,\n",
       " ((1, 0), 1): 4.752884919813191,\n",
       " ((1, 0), 2): 4.075274036364344,\n",
       " ((1, 0), 3): 4.093557587196523,\n",
       " ((1, 1), 0): 2.3460129091318818,\n",
       " ((1, 1), 1): 3.9279354132073103,\n",
       " ((1, 1), 2): 3.453753557049489,\n",
       " ((1, 1), 3): 4.867378143766888,\n",
       " ((1, 2), 0): 1.1380569831065235,\n",
       " ((1, 2), 1): 4.998889186186659,\n",
       " ((1, 2), 2): 2.881353269569386,\n",
       " ((1, 2), 3): 3.12117375398256,\n",
       " ((2, 0), 0): 0.5373110464527069,\n",
       " ((2, 0), 1): 3.824359595169045,\n",
       " ((2, 0), 2): 0.713605538533579,\n",
       " ((2, 0), 3): 1.154634609849166,\n",
       " ((2, 1), 0): 0.4884525611111188,\n",
       " ((2, 1), 1): 3.8906873987095305,\n",
       " ((2, 1), 2): 0.6734129063876485,\n",
       " ((2, 1), 3): 0.7274460362281593,\n",
       " ((2, 2), 0): 0.46584297208270387,\n",
       " ((2, 2), 1): 3.179508102442822,\n",
       " ((2, 2), 2): 0.5546588546434528,\n",
       " ((2, 2), 3): 0.657473651197235}"
      ]
     },
     "execution_count": 15,
     "metadata": {},
     "output_type": "execute_result"
    }
   ],
   "source": [
    "q_values  ## e = 0.975"
   ]
  },
  {
   "cell_type": "code",
   "execution_count": 12,
   "metadata": {},
   "outputs": [
    {
     "data": {
      "text/plain": [
       "{((0, 0), 0): 3.6388229104783756,\n",
       " ((0, 0), 1): 4.04972968004215,\n",
       " ((0, 0), 2): 4.04968697687467,\n",
       " ((0, 0), 3): 4.4999999999999805,\n",
       " ((0, 1), 0): 4.042221194822626,\n",
       " ((0, 1), 1): 4.490463677619085,\n",
       " ((0, 1), 2): 4.047658482924288,\n",
       " ((0, 1), 3): 4.999999999999988,\n",
       " ((0, 2), 0): 0,\n",
       " ((0, 2), 1): 0,\n",
       " ((0, 2), 2): 0,\n",
       " ((0, 2), 3): 0,\n",
       " ((1, 0), 0): 1.1832776337554023,\n",
       " ((1, 0), 1): 3.242107433386799,\n",
       " ((1, 0), 2): 2.827394283696197,\n",
       " ((1, 0), 3): 4.049282851959619,\n",
       " ((1, 1), 0): 2.591744285260087,\n",
       " ((1, 1), 1): 4.141445138703298,\n",
       " ((1, 1), 2): 3.4282553282979364,\n",
       " ((1, 1), 3): 4.499979361367113,\n",
       " ((1, 2), 0): 3.5845477729631483,\n",
       " ((1, 2), 1): 4.999995636945447,\n",
       " ((1, 2), 2): 3.733200387605874,\n",
       " ((1, 2), 3): 4.358213687376694,\n",
       " ((2, 0), 0): 0.27050804645014104,\n",
       " ((2, 0), 1): 1.1527060539255962,\n",
       " ((2, 0), 2): 0.4533891860477913,\n",
       " ((2, 0), 3): 2.6197397876671804,\n",
       " ((2, 1), 0): 1.3268297019110515,\n",
       " ((2, 1), 1): 3.8998455209365885,\n",
       " ((2, 1), 2): 0.7112008484881398,\n",
       " ((2, 1), 3): 1.2816737203395157,\n",
       " ((2, 2), 0): 1.0298248011960072,\n",
       " ((2, 2), 1): 4.382714531140405,\n",
       " ((2, 2), 2): 1.189737747938806,\n",
       " ((2, 2), 3): 2.181773942426542}"
      ]
     },
     "execution_count": 12,
     "metadata": {},
     "output_type": "execute_result"
    }
   ],
   "source": [
    "q_values  ## e = 0.9"
   ]
  },
  {
   "cell_type": "code",
   "execution_count": 10,
   "metadata": {},
   "outputs": [
    {
     "data": {
      "text/plain": [
       "{((0, 0), 0): 4.831127779716294,\n",
       " ((0, 0), 1): 4.900121467977998,\n",
       " ((0, 0), 2): 4.8998728071601345,\n",
       " ((0, 0), 3): 4.94999999999998,\n",
       " ((0, 1), 0): 4.887695109686691,\n",
       " ((0, 1), 1): 4.945997214861594,\n",
       " ((0, 1), 2): 4.899062704637869,\n",
       " ((0, 1), 3): 4.999999999999988,\n",
       " ((0, 2), 0): 0,\n",
       " ((0, 2), 1): 0,\n",
       " ((0, 2), 2): 0,\n",
       " ((0, 2), 3): 0,\n",
       " ((1, 0), 0): 2.459806139432736,\n",
       " ((1, 0), 1): 4.3479201251192166,\n",
       " ((1, 0), 2): 3.8488665648196627,\n",
       " ((1, 0), 3): 4.897830650282425,\n",
       " ((1, 1), 0): 3.635257806325286,\n",
       " ((1, 1), 1): 4.711721783361985,\n",
       " ((1, 1), 2): 4.373247775389456,\n",
       " ((1, 1), 3): 4.949829214597809,\n",
       " ((1, 2), 0): 2.9692616123777196,\n",
       " ((1, 2), 1): 4.9999677470059325,\n",
       " ((1, 2), 2): 4.136515897749433,\n",
       " ((1, 2), 3): 4.697234824737541,\n",
       " ((2, 0), 0): 0.8740109352585193,\n",
       " ((2, 0), 1): 4.00021875934265,\n",
       " ((2, 0), 2): 0.9551769483772505,\n",
       " ((2, 0), 3): 1.1477127088022718,\n",
       " ((2, 1), 0): 1.0683178224424863,\n",
       " ((2, 1), 1): 4.572967331546343,\n",
       " ((2, 1), 2): 0.956558589523909,\n",
       " ((2, 1), 3): 0.655105799093846,\n",
       " ((2, 2), 0): 0.44514781342904386,\n",
       " ((2, 2), 1): 4.250093734574409,\n",
       " ((2, 2), 2): 1.280174128330986,\n",
       " ((2, 2), 3): 0.39865619935072494}"
      ]
     },
     "execution_count": 10,
     "metadata": {},
     "output_type": "execute_result"
    }
   ],
   "source": [
    "q_values  ## e = 0.99"
   ]
  }
 ],
 "metadata": {
  "kernelspec": {
   "display_name": "Python 3",
   "language": "python",
   "name": "python3"
  },
  "language_info": {
   "codemirror_mode": {
    "name": "ipython",
    "version": 3
   },
   "file_extension": ".py",
   "mimetype": "text/x-python",
   "name": "python",
   "nbconvert_exporter": "python",
   "pygments_lexer": "ipython3",
   "version": "3.8.3"
  }
 },
 "nbformat": 4,
 "nbformat_minor": 4
}
