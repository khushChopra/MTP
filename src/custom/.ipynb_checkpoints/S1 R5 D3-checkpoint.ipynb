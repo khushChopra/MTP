{
 "cells": [
  {
   "cell_type": "code",
   "execution_count": 1,
   "metadata": {},
   "outputs": [],
   "source": [
    "from random import random, randint\n",
    "from pprint import pprint\n",
    "import matplotlib.pyplot as plt\n",
    "from env import SquareField"
   ]
  },
  {
   "cell_type": "markdown",
   "metadata": {},
   "source": [
    "Q learning Scenario 1"
   ]
  },
  {
   "cell_type": "markdown",
   "metadata": {},
   "source": [
    "for reward 5"
   ]
  },
  {
   "cell_type": "code",
   "execution_count": 10,
   "metadata": {},
   "outputs": [
    {
     "name": "stdout",
     "output_type": "stream",
     "text": [
      "0 Done\n",
      "100 Done\n",
      "200 Done\n",
      "300 Done\n",
      "400 Done\n",
      "500 Done\n",
      "600 Done\n",
      "700 Done\n",
      "800 Done\n",
      "900 Done\n"
     ]
    }
   ],
   "source": [
    "l = 3\n",
    "final_states = { (1,2):5 }\n",
    "n = 1000 # number of episodes\n",
    "e = 0.5 # epsilon\n",
    "gamma = 0.75\n",
    "alpha = 0.05\n",
    "\n",
    "env = SquareField(l, final_states)\n",
    "\n",
    "q_values = {}\n",
    "for a in range(l):\n",
    "    for b in range(l):\n",
    "        for c in range(4):\n",
    "            q_values[((a,b), c)] = 0\n",
    "\n",
    "            \n",
    "len_episodes = []\n",
    "for i in range(n):\n",
    "    current_state = env.reset()\n",
    "    done = False\n",
    "    next_state = None\n",
    "    len_episode = 0\n",
    "    reward_episode = 0\n",
    "    while not done:\n",
    "        action = 0\n",
    "        if random()<e:\n",
    "            action = randint(0,3)\n",
    "        else:\n",
    "            max_val = 0\n",
    "            for j in range(4):\n",
    "                if q_values[(current_state, j)]>max_val:\n",
    "                    max_val = q_values[(current_state, j)]\n",
    "                    action = j\n",
    "        \n",
    "        next_state, reward, done, info = env.step(action)\n",
    "        max_next_state_q_value = max( [ q_values[ (next_state, j) ] for j in range(4)  ] )\n",
    "        q_values[(current_state, action)] = (1-alpha)*q_values[(current_state, action)] + alpha*(reward + gamma*max_next_state_q_value)\n",
    "        \n",
    "        current_state = next_state\n",
    "        len_episode += 1\n",
    "    len_episodes.append(len_episode)\n",
    "    if i%100==0:\n",
    "        print(i, \"Done\")"
   ]
  },
  {
   "cell_type": "code",
   "execution_count": 9,
   "metadata": {},
   "outputs": [
    {
     "data": {
      "image/png": "[encoded data removed]",
      "text/plain": [
       "<Figure size 432x288 with 1 Axes>"
      ]
     },
     "metadata": {
      "needs_background": "light"
     },
     "output_type": "display_data"
    }
   ],
   "source": [
    "plt.plot(len_episodes)\n",
    "plt.show()"
   ]
  },
  {
   "cell_type": "code",
   "execution_count": 11,
   "metadata": {},
   "outputs": [
    {
     "data": {
      "text/plain": [
       "{((0, 0), 0): 2.8124999999999845,\n",
       " ((0, 0), 1): 2.109227481397589,\n",
       " ((0, 0), 2): 2.1093472058062566,\n",
       " ((0, 0), 3): 2.812088030060902,\n",
       " ((0, 1), 0): 3.749996901142377,\n",
       " ((0, 1), 1): 2.6548778910546966,\n",
       " ((0, 1), 2): 1.9542144893015319,\n",
       " ((0, 1), 3): 2.449953235131339,\n",
       " ((0, 2), 0): 4.323620228604716,\n",
       " ((0, 2), 1): 0.6049345744589277,\n",
       " ((0, 2), 2): 1.0561847669041033,\n",
       " ((0, 2), 3): 0.1860362160495794,\n",
       " ((1, 0), 0): 2.1057616018644727,\n",
       " ((1, 0), 1): 2.109158303905948,\n",
       " ((1, 0), 2): 2.811883412321304,\n",
       " ((1, 0), 3): 3.7499999999999836,\n",
       " ((1, 1), 0): 2.7816242492632295,\n",
       " ((1, 1), 1): 2.810664974700658,\n",
       " ((1, 1), 2): 2.811424507850962,\n",
       " ((1, 1), 3): 4.999999999999988,\n",
       " ((1, 2), 0): 0,\n",
       " ((1, 2), 1): 0,\n",
       " ((1, 2), 2): 0,\n",
       " ((1, 2), 3): 0,\n",
       " ((2, 0), 0): 1.8319595452062971,\n",
       " ((2, 0), 1): 2.8119944216340698,\n",
       " ((2, 0), 2): 1.4823533148977805,\n",
       " ((2, 0), 3): 2.1619815554967334,\n",
       " ((2, 1), 0): 2.3949875818199513,\n",
       " ((2, 1), 1): 2.81117205486057,\n",
       " ((2, 1), 2): 1.7487483311852556,\n",
       " ((2, 1), 3): 3.7388433674708645,\n",
       " ((2, 2), 0): 3.1285432549158276,\n",
       " ((2, 2), 1): 4.997343315500892,\n",
       " ((2, 2), 2): 1.6108026956353498,\n",
       " ((2, 2), 3): 2.801646599824824}"
      ]
     },
     "execution_count": 11,
     "metadata": {},
     "output_type": "execute_result"
    }
   ],
   "source": [
    "q_values  ## e = 0.75"
   ]
  },
  {
   "cell_type": "code",
   "execution_count": 7,
   "metadata": {
    "collapsed": true
   },
   "outputs": [
    {
     "data": {
      "text/plain": [
       "{((0, 0), 0): 4.512499999999951,\n",
       " ((0, 0), 1): 4.286051726921331,\n",
       " ((0, 0), 2): 4.2861959144390065,\n",
       " ((0, 0), 3): 4.510969828888513,\n",
       " ((0, 1), 0): 4.749957199832217,\n",
       " ((0, 1), 1): 3.928865246279789,\n",
       " ((0, 1), 2): 3.98365386185853,\n",
       " ((0, 1), 3): 3.958958067862398,\n",
       " ((0, 2), 0): 4.757527373752878,\n",
       " ((0, 2), 1): 1.7913980214810885,\n",
       " ((0, 2), 2): 1.341681885346101,\n",
       " ((0, 2), 3): 2.132120783466633,\n",
       " ((1, 0), 0): 4.285863399684391,\n",
       " ((1, 0), 1): 4.286061582741856,\n",
       " ((1, 0), 2): 4.51227838149673,\n",
       " ((1, 0), 3): 4.749999999999966,\n",
       " ((1, 1), 0): 4.497039990545398,\n",
       " ((1, 1), 1): 4.5048757427602615,\n",
       " ((1, 1), 2): 4.511725972666919,\n",
       " ((1, 1), 3): 4.999999999999988,\n",
       " ((1, 2), 0): 0,\n",
       " ((1, 2), 1): 0,\n",
       " ((1, 2), 2): 0,\n",
       " ((1, 2), 3): 0,\n",
       " ((2, 0), 0): 3.663239302921366,\n",
       " ((2, 0), 1): 4.5123804385531,\n",
       " ((2, 0), 2): 3.506804626354299,\n",
       " ((2, 0), 3): 3.933011222122418,\n",
       " ((2, 1), 0): 3.8537426686806384,\n",
       " ((2, 1), 1): 4.18391989351011,\n",
       " ((2, 1), 2): 3.4152914647496826,\n",
       " ((2, 1), 3): 4.746128494410763,\n",
       " ((2, 2), 0): 3.955762412185238,\n",
       " ((2, 2), 1): 4.999140473446125,\n",
       " ((2, 2), 2): 3.5687625322325003,\n",
       " ((2, 2), 3): 3.5699836033098427}"
      ]
     },
     "execution_count": 7,
     "metadata": {},
     "output_type": "execute_result"
    }
   ],
   "source": [
    "q_values  ## e = 0.95"
   ]
  },
  {
   "cell_type": "code",
   "execution_count": 9,
   "metadata": {},
   "outputs": [
    {
     "data": {
      "text/plain": [
       "{((0, 0), 0): 4.517898583021251,\n",
       " ((0, 0), 1): 4.634218492589218,\n",
       " ((0, 0), 2): 4.6342066169548595,\n",
       " ((0, 0), 3): 4.753124999999963,\n",
       " ((0, 1), 0): 4.86527773476729,\n",
       " ((0, 1), 1): 4.752128338004137,\n",
       " ((0, 1), 2): 4.633940388198157,\n",
       " ((0, 1), 3): 4.874999999999977,\n",
       " ((0, 2), 0): 4.999999999999988,\n",
       " ((0, 2), 1): 4.872511487961926,\n",
       " ((0, 2), 2): 4.73636424339541,\n",
       " ((0, 2), 3): 4.868276910848081,\n",
       " ((1, 0), 0): 2.304200136132881,\n",
       " ((1, 0), 1): 4.634220888033518,\n",
       " ((1, 0), 2): 3.898733602197111,\n",
       " ((1, 0), 3): 4.493763835209805,\n",
       " ((1, 1), 0): 1.400617539708854,\n",
       " ((1, 1), 1): 3.563461475443374,\n",
       " ((1, 1), 2): 3.3882527521776398,\n",
       " ((1, 1), 3): 4.998144738130318,\n",
       " ((1, 2), 0): 0,\n",
       " ((1, 2), 1): 0,\n",
       " ((1, 2), 2): 0,\n",
       " ((1, 2), 3): 0,\n",
       " ((2, 0), 0): 0.5190860183407044,\n",
       " ((2, 0), 1): 3.7936450608297387,\n",
       " ((2, 0), 2): 0.9466727054126454,\n",
       " ((2, 0), 3): 0.4122790939435866,\n",
       " ((2, 1), 0): 0.5430323456950343,\n",
       " ((2, 1), 1): 0.9559904745072207,\n",
       " ((2, 1), 2): 0.8831416487738065,\n",
       " ((2, 1), 3): 2.6727222731895006,\n",
       " ((2, 2), 0): 0.42365679314007687,\n",
       " ((2, 2), 1): 4.125876926381011,\n",
       " ((2, 2), 2): 0.2850239629553024,\n",
       " ((2, 2), 3): 0.8069170678549977}"
      ]
     },
     "execution_count": 9,
     "metadata": {},
     "output_type": "execute_result"
    }
   ],
   "source": [
    "q_values  ## e = 0.975"
   ]
  },
  {
   "cell_type": "code",
   "execution_count": 5,
   "metadata": {},
   "outputs": [
    {
     "data": {
      "text/plain": [
       "{((0, 0), 0): 4.049999999999968,\n",
       " ((0, 0), 1): 3.6449208250556326,\n",
       " ((0, 0), 2): 3.6449113688097174,\n",
       " ((0, 0), 3): 4.049605968457522,\n",
       " ((0, 1), 0): 4.4999978821343944,\n",
       " ((0, 1), 1): 3.8399431125927475,\n",
       " ((0, 1), 2): 3.3315121016010574,\n",
       " ((0, 1), 3): 3.267015319394156,\n",
       " ((0, 2), 0): 4.502798715064534,\n",
       " ((0, 2), 1): 0.31063981557136333,\n",
       " ((0, 2), 2): 1.3630230114829078,\n",
       " ((0, 2), 3): 0.5956427204221674,\n",
       " ((1, 0), 0): 3.6407761851216005,\n",
       " ((1, 0), 1): 3.6448956261159173,\n",
       " ((1, 0), 2): 4.049828798906271,\n",
       " ((1, 0), 3): 4.4999999999999805,\n",
       " ((1, 1), 0): 4.041046459506018,\n",
       " ((1, 1), 1): 4.048573627176427,\n",
       " ((1, 1), 2): 4.049105961974827,\n",
       " ((1, 1), 3): 4.999999999999988,\n",
       " ((1, 2), 0): 0,\n",
       " ((1, 2), 1): 0,\n",
       " ((1, 2), 2): 0,\n",
       " ((1, 2), 3): 0,\n",
       " ((2, 0), 0): 2.7992462521494885,\n",
       " ((2, 0), 1): 4.049317859006097,\n",
       " ((2, 0), 2): 3.3387250090297687,\n",
       " ((2, 0), 3): 3.2000112493014616,\n",
       " ((2, 1), 0): 2.193072204478536,\n",
       " ((2, 1), 1): 4.498656788955079,\n",
       " ((2, 1), 2): 2.4309730225316533,\n",
       " ((2, 1), 3): 2.285835868019169,\n",
       " ((2, 2), 0): 0.4800965271108253,\n",
       " ((2, 2), 1): 4.031442577707492,\n",
       " ((2, 2), 2): 0.6532185938468948,\n",
       " ((2, 2), 3): 0.5962451110058695}"
      ]
     },
     "execution_count": 5,
     "metadata": {},
     "output_type": "execute_result"
    }
   ],
   "source": [
    "q_values  ## e = 0.9"
   ]
  },
  {
   "cell_type": "code",
   "execution_count": 3,
   "metadata": {},
   "outputs": [
    {
     "data": {
      "text/plain": [
       "{((0, 0), 0): 4.900265569097984,\n",
       " ((0, 0), 1): 4.851281174778567,\n",
       " ((0, 0), 2): 4.85136009698311,\n",
       " ((0, 0), 3): 4.900499999999971,\n",
       " ((0, 1), 0): 4.94999999999998,\n",
       " ((0, 1), 1): 4.900061030473669,\n",
       " ((0, 1), 2): 4.8508553610494145,\n",
       " ((0, 1), 3): 4.932678834875981,\n",
       " ((0, 2), 0): 4.996385915103964,\n",
       " ((0, 2), 1): 3.405215328951772,\n",
       " ((0, 2), 2): 3.7630266039471545,\n",
       " ((0, 2), 3): 3.7907187414044965,\n",
       " ((1, 0), 0): 4.433920270914247,\n",
       " ((1, 0), 1): 4.724457874700095,\n",
       " ((1, 0), 2): 4.647997178528126,\n",
       " ((1, 0), 3): 4.9499998399091165,\n",
       " ((1, 1), 0): 4.8846534985964425,\n",
       " ((1, 1), 1): 4.899683833435208,\n",
       " ((1, 1), 2): 4.898808549080788,\n",
       " ((1, 1), 3): 4.999999999999988,\n",
       " ((1, 2), 0): 0,\n",
       " ((1, 2), 1): 0,\n",
       " ((1, 2), 2): 0,\n",
       " ((1, 2), 3): 0,\n",
       " ((2, 0), 0): 2.211476750351602,\n",
       " ((2, 0), 1): 4.859339252396992,\n",
       " ((2, 0), 2): 2.6931354896693582,\n",
       " ((2, 0), 3): 2.5799154022670443,\n",
       " ((2, 1), 0): 3.909822104800198,\n",
       " ((2, 1), 1): 4.9465661584551714,\n",
       " ((2, 1), 2): 3.8074850818902877,\n",
       " ((2, 1), 3): 1.65628681841361,\n",
       " ((2, 2), 0): 0.3100038379217611,\n",
       " ((2, 2), 1): 1.1310953124999998,\n",
       " ((2, 2), 2): 3.3364782805989943,\n",
       " ((2, 2), 3): 0.1458146415557659}"
      ]
     },
     "execution_count": 3,
     "metadata": {},
     "output_type": "execute_result"
    }
   ],
   "source": [
    "q_values  ## e = 0.99"
   ]
  }
 ],
 "metadata": {
  "kernelspec": {
   "display_name": "Python 3",
   "language": "python",
   "name": "python3"
  },
  "language_info": {
   "codemirror_mode": {
    "name": "ipython",
    "version": 3
   },
   "file_extension": ".py",
   "mimetype": "text/x-python",
   "name": "python",
   "nbconvert_exporter": "python",
   "pygments_lexer": "ipython3",
   "version": "3.8.3"
  }
 },
 "nbformat": 4,
 "nbformat_minor": 4
}
